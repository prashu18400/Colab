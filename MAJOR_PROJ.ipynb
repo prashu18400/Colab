{
  "nbformat": 4,
  "nbformat_minor": 0,
  "metadata": {
    "colab": {
      "name": "MAJOR_PROJ",
      "provenance": [],
      "authorship_tag": "ABX9TyPjzJaRNubDlqYDTA/bV15j",
      "include_colab_link": true
    },
    "kernelspec": {
      "name": "python3",
      "display_name": "Python 3"
    },
    "language_info": {
      "name": "python"
    },
    "accelerator": "GPU"
  },
  "cells": [
    {
      "cell_type": "markdown",
      "metadata": {
        "id": "view-in-github",
        "colab_type": "text"
      },
      "source": [
        "<a href=\"https://colab.research.google.com/github/prashu18400/Colab/blob/main/MAJOR_PROJ.ipynb\" target=\"_parent\"><img src=\"https://colab.research.google.com/assets/colab-badge.svg\" alt=\"Open In Colab\"/></a>"
      ]
    },
    {
      "cell_type": "markdown",
      "metadata": {
        "id": "ETd4IZIlGdSl"
      },
      "source": [
        "# Dataset Download from Kaggle"
      ]
    },
    {
      "cell_type": "code",
      "metadata": {
        "id": "4WNV-VVSGip7"
      },
      "source": [
        "import os"
      ],
      "execution_count": 1,
      "outputs": []
    },
    {
      "cell_type": "markdown",
      "metadata": {
        "id": "QQL0u8shG7H_"
      },
      "source": [
        "Go to account section in kaggle and create a new API.\n",
        "It gives a json file,open that and enter your username and password given there"
      ]
    },
    {
      "cell_type": "code",
      "metadata": {
        "id": "KH53JHkXGyTK"
      },
      "source": [
        "os.environ['KAGGLE_USERNAME'] = 'prashanthjuluru'\n",
        "os.environ['KAGGLE_KEY'] = '029eb9a6cedf098bceb9d1eb890c3ca0'"
      ],
      "execution_count": 2,
      "outputs": []
    },
    {
      "cell_type": "code",
      "metadata": {
        "colab": {
          "base_uri": "https://localhost:8080/"
        },
        "id": "LivxjFvLHbam",
        "outputId": "f86c85f1-a88d-4038-81ea-d6f1e72413d7"
      },
      "source": [
        "!kaggle datasets download -d jangedoo/utkface-new"
      ],
      "execution_count": 3,
      "outputs": [
        {
          "output_type": "stream",
          "text": [
            "Downloading utkface-new.zip to /content\n",
            " 99% 329M/331M [00:03<00:00, 122MB/s]\n",
            "100% 331M/331M [00:03<00:00, 107MB/s]\n"
          ],
          "name": "stdout"
        }
      ]
    },
    {
      "cell_type": "code",
      "metadata": {
        "id": "Te0INoZPNgw0"
      },
      "source": [
        "dataset = '/content/utkface-new.zip'"
      ],
      "execution_count": 4,
      "outputs": []
    },
    {
      "cell_type": "code",
      "metadata": {
        "id": "pdRf3wXGHlEH"
      },
      "source": [
        "import zipfile\n",
        "zip_ref = zipfile.ZipFile(dataset, \"r\")\n",
        "zip_ref.extractall()\n",
        "zip_ref.close()\n"
      ],
      "execution_count": 5,
      "outputs": []
    },
    {
      "cell_type": "markdown",
      "metadata": {
        "id": "32_eK5hWOaxS"
      },
      "source": [
        "# Data Preprocess\n"
      ]
    },
    {
      "cell_type": "code",
      "metadata": {
        "id": "zTVl3X5zNZiI"
      },
      "source": [
        "fldr = '/content/UTKFace'"
      ],
      "execution_count": 74,
      "outputs": []
    },
    {
      "cell_type": "code",
      "metadata": {
        "id": "pkFmgx8mOOJ5"
      },
      "source": [
        "files = os.listdir(fldr)"
      ],
      "execution_count": 75,
      "outputs": []
    },
    {
      "cell_type": "markdown",
      "metadata": {
        "id": "Uj787hRsOw_z"
      },
      "source": [
        "Adding all details to separate lists and are used in training and test data split by converting them to numpy arrays"
      ]
    },
    {
      "cell_type": "code",
      "metadata": {
        "id": "e_uvF1N4OUV-"
      },
      "source": [
        "import cv2\n",
        "ages = []\n",
        "genders = []\n",
        "images = []\n",
        "for file in files:\n",
        "  age=int(file.split('_')[0])\n",
        "  gender=int(file.split('_')[1])\n",
        "  total=fldr+'/'+file\n",
        "  print(total)\n",
        "  image=cv2.imread(total)\n",
        "  image = cv2.cvtColor(image, cv2.COLOR_BGR2RGB)\n",
        "  image= cv2.resize(image,(48,48))\n",
        "  images.append(image)\n"
      ],
      "execution_count": null,
      "outputs": []
    },
    {
      "cell_type": "code",
      "metadata": {
        "id": "Q9xsSTkgVuZT"
      },
      "source": [
        "for fle in files:\n",
        "  age=int(fle.split('_')[0])\n",
        "  gender=int(fle.split('_')[1])\n",
        "  ages.append(age)\n",
        "  genders.append(gender)"
      ],
      "execution_count": 78,
      "outputs": []
    },
    {
      "cell_type": "markdown",
      "metadata": {
        "id": "fEGNjobIPMyb"
      },
      "source": [
        "Import matplotlib and see the images that are cropped."
      ]
    },
    {
      "cell_type": "code",
      "metadata": {
        "id": "z7XBY9ROPB1K"
      },
      "source": [
        "import matplotlib.pyplot as plt"
      ],
      "execution_count": 79,
      "outputs": []
    },
    {
      "cell_type": "code",
      "metadata": {
        "colab": {
          "base_uri": "https://localhost:8080/",
          "height": 284
        },
        "id": "wUE8wzKSPXOA",
        "outputId": "9c9b245a-483e-41b5-e00f-999c65b028aa"
      },
      "source": [
        "plt.imshow(images[10])"
      ],
      "execution_count": 80,
      "outputs": [
        {
          "output_type": "execute_result",
          "data": {
            "text/plain": [
              "<matplotlib.image.AxesImage at 0x7f911d5bd0d0>"
            ]
          },
          "metadata": {
            "tags": []
          },
          "execution_count": 80
        },
        {
          "output_type": "display_data",
          "data": {
            "image/png": "[encoded data removed]",
            "text/plain": [
              "<Figure size 432x288 with 1 Axes>"
            ]
          },
          "metadata": {
            "tags": [],
            "needs_background": "light"
          }
        }
      ]
    },
    {
      "cell_type": "markdown",
      "metadata": {
        "id": "TuaAt9R-Pr_1"
      },
      "source": [
        "This shape can be used as parameters to the model that we define i.e Convolutional Neural Network"
      ]
    },
    {
      "cell_type": "code",
      "metadata": {
        "colab": {
          "base_uri": "https://localhost:8080/"
        },
        "id": "VMYYA8KOPaHy",
        "outputId": "cd630fe3-66de-4c00-e16e-25a8a8c7e69f"
      },
      "source": [
        "image.shape"
      ],
      "execution_count": 81,
      "outputs": [
        {
          "output_type": "execute_result",
          "data": {
            "text/plain": [
              "(48, 48, 3)"
            ]
          },
          "metadata": {
            "tags": []
          },
          "execution_count": 81
        }
      ]
    },
    {
      "cell_type": "markdown",
      "metadata": {
        "id": "GHeFkqfSP3Sr"
      },
      "source": [
        "As said convert those lists into numpy arrays and save them into a directory (in my case directory is 'output')"
      ]
    },
    {
      "cell_type": "code",
      "metadata": {
        "id": "irzbyeqhPnEf"
      },
      "source": [
        "import numpy as np\n",
        "images_f = np.array(images)\n",
        "genders_f = np.array(genders)\n",
        "ages_f = np.array(ages)"
      ],
      "execution_count": 82,
      "outputs": []
    },
    {
      "cell_type": "code",
      "metadata": {
        "id": "xmByDz9HQVzG"
      },
      "source": [
        "output_path = '/content/output/' #set the output path"
      ],
      "execution_count": 83,
      "outputs": []
    },
    {
      "cell_type": "code",
      "metadata": {
        "id": "BrA-fZG_QfD1"
      },
      "source": [
        "np.save(output_path+'image.npy',images_f)\n",
        "np.save(output_path+'gender.npy',genders_f)\n",
        "np.save(output_path+'age.npy',ages_f)"
      ],
      "execution_count": 84,
      "outputs": []
    },
    {
      "cell_type": "markdown",
      "metadata": {
        "id": "J3f9cwdPUiET"
      },
      "source": [
        "# Dataset Information"
      ]
    },
    {
      "cell_type": "code",
      "metadata": {
        "colab": {
          "base_uri": "https://localhost:8080/"
        },
        "id": "R0LNUUE9UJ7l",
        "outputId": "dd26ac1b-038a-4586-e985-ab01a0c892a4"
      },
      "source": [
        "values, counts = np.unique(genders_f, return_counts=True)\n",
        "print(counts)"
      ],
      "execution_count": 85,
      "outputs": [
        {
          "output_type": "stream",
          "text": [
            "[12391 11317]\n"
          ],
          "name": "stdout"
        }
      ]
    },
    {
      "cell_type": "code",
      "metadata": {
        "colab": {
          "base_uri": "https://localhost:8080/",
          "height": 336
        },
        "id": "mtY6obQdUu8Z",
        "outputId": "e62f7d8c-419f-4fa6-bd8e-bdb2db807de2"
      },
      "source": [
        "fig = plt.figure()\n",
        "ax = fig.add_axes([0,0,1,1])\n",
        "gender = ['Male', 'Female']\n",
        "values = [12391,11317]\n",
        "ax.bar(gender,values)\n",
        "plt.show()"
      ],
      "execution_count": 88,
      "outputs": [
        {
          "output_type": "display_data",
          "data": {
            "image/png": "[encoded data removed]",
            "text/plain": [
              "<Figure size 432x288 with 1 Axes>"
            ]
          },
          "metadata": {
            "tags": [],
            "needs_background": "light"
          }
        }
      ]
    },
    {
      "cell_type": "code",
      "metadata": {
        "colab": {
          "base_uri": "https://localhost:8080/"
        },
        "id": "2-0_jVOpVTTj",
        "outputId": "9b73b902-2452-4925-ff58-f70843a6e23a"
      },
      "source": [
        "values, counts = np.unique(ages_f, return_counts=True)\n",
        "print(counts)"
      ],
      "execution_count": 89,
      "outputs": [
        {
          "output_type": "stream",
          "text": [
            "[1123  482  289  273  196  131  139  263  166  156   65  130   81  157\n",
            "  177  247  158  262   98  284  346  395  426  859  734 2197  615  918\n",
            "  570  724  350  664  143  409  880  483  293  325  266  526  132  266\n",
            "  157  100  440  153  170  153  148  381  138  232  241  353  268  236\n",
            "   97  271   82  293  161  125  103   50  259   77   94  100   56  147\n",
            "   33   98   63   32  148   58   28   69   23  133   22   40   18   24\n",
            "  155   35   10   34   33   82    2   13    5    9   17    9   11    2\n",
            "    1    5    5    1    3    4]\n"
          ],
          "name": "stdout"
        }
      ]
    },
    {
      "cell_type": "code",
      "metadata": {
        "id": "vZ8ihl7sWKuH"
      },
      "source": [
        "val=values.tolist()\n",
        "cnt=counts.tolist()"
      ],
      "execution_count": 90,
      "outputs": []
    },
    {
      "cell_type": "code",
      "metadata": {
        "colab": {
          "base_uri": "https://localhost:8080/",
          "height": 296
        },
        "id": "EwOPNroqWRBC",
        "outputId": "c1dce44d-de01-4e88-90ff-233c667db0c4"
      },
      "source": [
        "#age distribution\n",
        "plt.plot(counts)\n",
        "plt.xlabel('ages')\n",
        "plt.ylabel('distribution')\n",
        "plt.plot()"
      ],
      "execution_count": 91,
      "outputs": [
        {
          "output_type": "execute_result",
          "data": {
            "text/plain": [
              "[]"
            ]
          },
          "metadata": {
            "tags": []
          },
          "execution_count": 91
        },
        {
          "output_type": "display_data",
          "data": {
            "image/png": "[encoded data removed]",
            "text/plain": [
              "<Figure size 432x288 with 1 Axes>"
            ]
          },
          "metadata": {
            "tags": [],
            "needs_background": "light"
          }
        }
      ]
    },
    {
      "cell_type": "markdown",
      "metadata": {
        "id": "tTIa8rBSWbPj"
      },
      "source": [
        "# Model definition\n"
      ]
    },
    {
      "cell_type": "code",
      "metadata": {
        "id": "SIWDTxJGWUdt"
      },
      "source": [
        "labels=[]\n",
        "\n",
        "i=0\n",
        "while i<len(ages):\n",
        "  label=[]\n",
        "  label.append([ages[i]])\n",
        "  label.append([genders[i]])\n",
        "  labels.append(label)\n",
        "  i+=1"
      ],
      "execution_count": 92,
      "outputs": []
    },
    {
      "cell_type": "code",
      "metadata": {
        "id": "DQGsFsY3WYHR"
      },
      "source": [
        "images_f_2=images_f/255\n",
        "labels_f = np.array(labels)"
      ],
      "execution_count": 93,
      "outputs": []
    },
    {
      "cell_type": "code",
      "metadata": {
        "colab": {
          "base_uri": "https://localhost:8080/"
        },
        "id": "S55LqplJWdxQ",
        "outputId": "3cf13ef2-e8c1-4de1-a91e-8db6e57e12bb"
      },
      "source": [
        "images_f_2.shape"
      ],
      "execution_count": 94,
      "outputs": [
        {
          "output_type": "execute_result",
          "data": {
            "text/plain": [
              "(23708, 48, 48, 3)"
            ]
          },
          "metadata": {
            "tags": []
          },
          "execution_count": 94
        }
      ]
    },
    {
      "cell_type": "code",
      "metadata": {
        "id": "2-7K21dOWqqI"
      },
      "source": [
        "import tensorflow as tf\n",
        "from sklearn.model_selection import train_test_split"
      ],
      "execution_count": 95,
      "outputs": []
    },
    {
      "cell_type": "code",
      "metadata": {
        "id": "SZlZ5UoXWwUE"
      },
      "source": [
        "X_train, X_test, Y_train, Y_test= train_test_split(images_f_2, labels_f,test_size=0.25)"
      ],
      "execution_count": 96,
      "outputs": []
    },
    {
      "cell_type": "code",
      "metadata": {
        "id": "ax0WqPsoW07I"
      },
      "source": [
        "Y_train_2=[Y_train[:,1],Y_train[:,0]]\n",
        "Y_test_2=[Y_test[:,1],Y_test[:,0]]"
      ],
      "execution_count": 97,
      "outputs": []
    },
    {
      "cell_type": "markdown",
      "metadata": {
        "id": "afbSilAycdkO"
      },
      "source": [
        "# Model CNN"
      ]
    },
    {
      "cell_type": "code",
      "metadata": {
        "id": "oDZbfNpIchyj"
      },
      "source": [
        "from tensorflow.keras.layers import Dropout\n",
        "from tensorflow.keras.layers import Flatten,BatchNormalization\n",
        "from tensorflow.keras.layers import Dense, MaxPooling2D,Conv2D\n",
        "from tensorflow.keras.layers import Input,Activation,Add\n",
        "from tensorflow.keras.models import Model\n",
        "from tensorflow.keras.regularizers import l2\n",
        "from tensorflow.keras.optimizers import Adam\n",
        "import tensorflow as tf\n",
        "\n",
        "def Convolution(input_tensor,filters):\n",
        "    \n",
        "    x = Conv2D(filters=filters,kernel_size=(3, 3),padding = 'same',strides=(1, 1),kernel_regularizer=l2(0.0001))(input_tensor)\n",
        "    x = Dropout(0.1)(x)\n",
        "    x= Activation('relu')(x)\n",
        "\n",
        "    return x\n",
        "def model(input_shape):\n",
        "  inputs = Input((input_shape))\n",
        "  \n",
        "  conv_1= Convolution(inputs,32)\n",
        "  maxp_1 = MaxPooling2D(pool_size = (2,2)) (conv_1)\n",
        "  conv_2 = Convolution(maxp_1,64)\n",
        "  maxp_2 = MaxPooling2D(pool_size = (2, 2)) (conv_2)\n",
        "  conv_3 = Convolution(maxp_2,128)\n",
        "  maxp_3 = MaxPooling2D(pool_size = (2, 2)) (conv_3)\n",
        "  conv_4 = Convolution(maxp_3,256)\n",
        "  maxp_4 = MaxPooling2D(pool_size = (2, 2)) (conv_4)\n",
        "  conv_5 = Convolution(maxp_4,1024)\n",
        "  maxp_5 = MaxPooling2D(pool_size=(2,2)) (conv_5)\n",
        "  flatten= Flatten() (maxp_5)\n",
        "  dense_1= Dense(64,activation='relu')(flatten)\n",
        "  dense_2= Dense(64,activation='relu')(flatten)\n",
        "  drop_1=Dropout(0.2)(dense_1)\n",
        "  drop_2=Dropout(0.2)(dense_2)\n",
        "  output_1= Dense(1,activation=\"sigmoid\",name='sex_out')(drop_1)\n",
        "  output_2= Dense(1,activation=\"relu\",name='age_out')(drop_2)\n",
        "  model = Model(inputs=[inputs], outputs=[output_1,output_2])  \n",
        "  model.compile(loss=[\"binary_crossentropy\",'mae'], optimizer=\"Adam\",\n",
        "\tmetrics=[\"accuracy\"])\n",
        "  \n",
        "  return model"
      ],
      "execution_count": 98,
      "outputs": []
    },
    {
      "cell_type": "code",
      "metadata": {
        "id": "-vGRv1vddesU"
      },
      "source": [
        "Model=model((48,48,3))"
      ],
      "execution_count": 99,
      "outputs": []
    },
    {
      "cell_type": "code",
      "metadata": {
        "colab": {
          "base_uri": "https://localhost:8080/"
        },
        "id": "KPzdJNPidpWp",
        "outputId": "0e70ed56-fa04-49b3-a5c1-492aadc3d336"
      },
      "source": [
        "Model.summary()"
      ],
      "execution_count": 100,
      "outputs": [
        {
          "output_type": "stream",
          "text": [
            "Model: \"model_6\"\n",
            "__________________________________________________________________________________________________\n",
            "Layer (type)                    Output Shape         Param #     Connected to                     \n",
            "==================================================================================================\n",
            "input_9 (InputLayer)            [(None, 48, 48, 3)]  0                                            \n",
            "__________________________________________________________________________________________________\n",
            "conv2d_41 (Conv2D)              (None, 48, 48, 32)   896         input_9[0][0]                    \n",
            "__________________________________________________________________________________________________\n",
            "dropout_53 (Dropout)            (None, 48, 48, 32)   0           conv2d_41[0][0]                  \n",
            "__________________________________________________________________________________________________\n",
            "activation_41 (Activation)      (None, 48, 48, 32)   0           dropout_53[0][0]                 \n",
            "__________________________________________________________________________________________________\n",
            "max_pooling2d_41 (MaxPooling2D) (None, 24, 24, 32)   0           activation_41[0][0]              \n",
            "__________________________________________________________________________________________________\n",
            "conv2d_42 (Conv2D)              (None, 24, 24, 64)   18496       max_pooling2d_41[0][0]           \n",
            "__________________________________________________________________________________________________\n",
            "dropout_54 (Dropout)            (None, 24, 24, 64)   0           conv2d_42[0][0]                  \n",
            "__________________________________________________________________________________________________\n",
            "activation_42 (Activation)      (None, 24, 24, 64)   0           dropout_54[0][0]                 \n",
            "__________________________________________________________________________________________________\n",
            "max_pooling2d_42 (MaxPooling2D) (None, 12, 12, 64)   0           activation_42[0][0]              \n",
            "__________________________________________________________________________________________________\n",
            "conv2d_43 (Conv2D)              (None, 12, 12, 128)  73856       max_pooling2d_42[0][0]           \n",
            "__________________________________________________________________________________________________\n",
            "dropout_55 (Dropout)            (None, 12, 12, 128)  0           conv2d_43[0][0]                  \n",
            "__________________________________________________________________________________________________\n",
            "activation_43 (Activation)      (None, 12, 12, 128)  0           dropout_55[0][0]                 \n",
            "__________________________________________________________________________________________________\n",
            "max_pooling2d_43 (MaxPooling2D) (None, 6, 6, 128)    0           activation_43[0][0]              \n",
            "__________________________________________________________________________________________________\n",
            "conv2d_44 (Conv2D)              (None, 6, 6, 256)    295168      max_pooling2d_43[0][0]           \n",
            "__________________________________________________________________________________________________\n",
            "dropout_56 (Dropout)            (None, 6, 6, 256)    0           conv2d_44[0][0]                  \n",
            "__________________________________________________________________________________________________\n",
            "activation_44 (Activation)      (None, 6, 6, 256)    0           dropout_56[0][0]                 \n",
            "__________________________________________________________________________________________________\n",
            "max_pooling2d_44 (MaxPooling2D) (None, 3, 3, 256)    0           activation_44[0][0]              \n",
            "__________________________________________________________________________________________________\n",
            "conv2d_45 (Conv2D)              (None, 3, 3, 1024)   2360320     max_pooling2d_44[0][0]           \n",
            "__________________________________________________________________________________________________\n",
            "dropout_57 (Dropout)            (None, 3, 3, 1024)   0           conv2d_45[0][0]                  \n",
            "__________________________________________________________________________________________________\n",
            "activation_45 (Activation)      (None, 3, 3, 1024)   0           dropout_57[0][0]                 \n",
            "__________________________________________________________________________________________________\n",
            "max_pooling2d_45 (MaxPooling2D) (None, 1, 1, 1024)   0           activation_45[0][0]              \n",
            "__________________________________________________________________________________________________\n",
            "flatten_6 (Flatten)             (None, 1024)         0           max_pooling2d_45[0][0]           \n",
            "__________________________________________________________________________________________________\n",
            "dense_12 (Dense)                (None, 64)           65600       flatten_6[0][0]                  \n",
            "__________________________________________________________________________________________________\n",
            "dense_13 (Dense)                (None, 64)           65600       flatten_6[0][0]                  \n",
            "__________________________________________________________________________________________________\n",
            "dropout_58 (Dropout)            (None, 64)           0           dense_12[0][0]                   \n",
            "__________________________________________________________________________________________________\n",
            "dropout_59 (Dropout)            (None, 64)           0           dense_13[0][0]                   \n",
            "__________________________________________________________________________________________________\n",
            "sex_out (Dense)                 (None, 1)            65          dropout_58[0][0]                 \n",
            "__________________________________________________________________________________________________\n",
            "age_out (Dense)                 (None, 1)            65          dropout_59[0][0]                 \n",
            "==================================================================================================\n",
            "Total params: 2,880,066\n",
            "Trainable params: 2,880,066\n",
            "Non-trainable params: 0\n",
            "__________________________________________________________________________________________________\n"
          ],
          "name": "stdout"
        }
      ]
    },
    {
      "cell_type": "code",
      "metadata": {
        "id": "QuScZUGidr1k"
      },
      "source": [
        "from tensorflow.keras.callbacks import ModelCheckpoint\n",
        "import tensorflow as tf"
      ],
      "execution_count": 101,
      "outputs": []
    },
    {
      "cell_type": "code",
      "metadata": {
        "id": "Yv0sN3WSdvXe"
      },
      "source": [
        "fle_s='Age_detection_202.h5'\n",
        "checkpointer = ModelCheckpoint(fle_s, monitor='val_loss',verbose=1,save_best_only=True,save_weights_only=False, mode='auto',save_freq='epoch')\n",
        "Early_stop=tf.keras.callbacks.EarlyStopping(patience=75, monitor='val_loss',restore_best_weights=True),\n",
        "callback_list=[checkpointer,Early_stop]"
      ],
      "execution_count": 102,
      "outputs": []
    },
    {
      "cell_type": "code",
      "metadata": {
        "colab": {
          "base_uri": "https://localhost:8080/"
        },
        "id": "SCWtOBa-d1TJ",
        "outputId": "58aa44df-6812-43e5-fa08-60e59bf6c1e0"
      },
      "source": [
        "History=Model.fit(X_train,Y_train_2,batch_size=64,validation_data=(X_test,Y_test_2),epochs=600,callbacks=[callback_list])"
      ],
      "execution_count": 103,
      "outputs": [
        {
          "output_type": "stream",
          "text": [
            "Epoch 1/600\n",
            "278/278 [==============================] - 5s 14ms/step - loss: 17.7463 - sex_out_loss: 0.7461 - age_out_loss: 16.9470 - sex_out_accuracy: 0.5189 - age_out_accuracy: 0.0481 - val_loss: 13.3165 - val_sex_out_loss: 0.6728 - val_age_out_loss: 12.5961 - val_sex_out_accuracy: 0.5966 - val_age_out_accuracy: 0.0483\n",
            "\n",
            "Epoch 00001: val_loss improved from inf to 13.31654, saving model to Age_detection_202.h5\n",
            "Epoch 2/600\n",
            "278/278 [==============================] - 4s 13ms/step - loss: 12.2987 - sex_out_loss: 0.6565 - age_out_loss: 11.5908 - sex_out_accuracy: 0.6109 - age_out_accuracy: 0.0479 - val_loss: 10.6773 - val_sex_out_loss: 0.6060 - val_age_out_loss: 10.0105 - val_sex_out_accuracy: 0.6914 - val_age_out_accuracy: 0.0483\n",
            "\n",
            "Epoch 00002: val_loss improved from 13.31654 to 10.67729, saving model to Age_detection_202.h5\n",
            "Epoch 3/600\n",
            "278/278 [==============================] - 4s 13ms/step - loss: 10.8511 - sex_out_loss: 0.6009 - age_out_loss: 10.1873 - sex_out_accuracy: 0.6842 - age_out_accuracy: 0.0485 - val_loss: 12.3447 - val_sex_out_loss: 0.5411 - val_age_out_loss: 11.7344 - val_sex_out_accuracy: 0.7454 - val_age_out_accuracy: 0.0483\n",
            "\n",
            "Epoch 00003: val_loss did not improve from 10.67729\n",
            "Epoch 4/600\n",
            "278/278 [==============================] - 4s 13ms/step - loss: 9.7520 - sex_out_loss: 0.5375 - age_out_loss: 9.1433 - sex_out_accuracy: 0.7396 - age_out_accuracy: 0.0456 - val_loss: 9.5672 - val_sex_out_loss: 0.4650 - val_age_out_loss: 9.0242 - val_sex_out_accuracy: 0.7817 - val_age_out_accuracy: 0.0483\n",
            "\n",
            "Epoch 00004: val_loss improved from 10.67729 to 9.56722, saving model to Age_detection_202.h5\n",
            "Epoch 5/600\n",
            "278/278 [==============================] - 4s 13ms/step - loss: 8.9916 - sex_out_loss: 0.4675 - age_out_loss: 8.4440 - sex_out_accuracy: 0.7831 - age_out_accuracy: 0.0489 - val_loss: 11.0182 - val_sex_out_loss: 0.4040 - val_age_out_loss: 10.5276 - val_sex_out_accuracy: 0.8213 - val_age_out_accuracy: 0.0483\n",
            "\n",
            "Epoch 00005: val_loss did not improve from 9.56722\n",
            "Epoch 6/600\n",
            "278/278 [==============================] - 4s 13ms/step - loss: 8.8718 - sex_out_loss: 0.4066 - age_out_loss: 8.3765 - sex_out_accuracy: 0.8168 - age_out_accuracy: 0.0462 - val_loss: 8.4699 - val_sex_out_loss: 0.3743 - val_age_out_loss: 8.0005 - val_sex_out_accuracy: 0.8306 - val_age_out_accuracy: 0.0483\n",
            "\n",
            "Epoch 00006: val_loss improved from 9.56722 to 8.46986, saving model to Age_detection_202.h5\n",
            "Epoch 7/600\n",
            "278/278 [==============================] - 4s 13ms/step - loss: 8.3279 - sex_out_loss: 0.3791 - age_out_loss: 7.8519 - sex_out_accuracy: 0.8325 - age_out_accuracy: 0.0444 - val_loss: 8.0710 - val_sex_out_loss: 0.3430 - val_age_out_loss: 7.6245 - val_sex_out_accuracy: 0.8461 - val_age_out_accuracy: 0.0483\n",
            "\n",
            "Epoch 00007: val_loss improved from 8.46986 to 8.07096, saving model to Age_detection_202.h5\n",
            "Epoch 8/600\n",
            "278/278 [==============================] - 4s 13ms/step - loss: 7.8923 - sex_out_loss: 0.3317 - age_out_loss: 7.4555 - sex_out_accuracy: 0.8567 - age_out_accuracy: 0.0448 - val_loss: 7.6865 - val_sex_out_loss: 0.3272 - val_age_out_loss: 7.2489 - val_sex_out_accuracy: 0.8573 - val_age_out_accuracy: 0.0483\n",
            "\n",
            "Epoch 00008: val_loss improved from 8.07096 to 7.68651, saving model to Age_detection_202.h5\n",
            "Epoch 9/600\n",
            "278/278 [==============================] - 4s 13ms/step - loss: 7.9820 - sex_out_loss: 0.3325 - age_out_loss: 7.5371 - sex_out_accuracy: 0.8522 - age_out_accuracy: 0.0484 - val_loss: 8.5619 - val_sex_out_loss: 0.3000 - val_age_out_loss: 8.1452 - val_sex_out_accuracy: 0.8681 - val_age_out_accuracy: 0.0483\n",
            "\n",
            "Epoch 00009: val_loss did not improve from 7.68651\n",
            "Epoch 10/600\n",
            "278/278 [==============================] - 4s 13ms/step - loss: 7.4471 - sex_out_loss: 0.3130 - age_out_loss: 7.0153 - sex_out_accuracy: 0.8582 - age_out_accuracy: 0.0505 - val_loss: 8.3620 - val_sex_out_loss: 0.2967 - val_age_out_loss: 7.9416 - val_sex_out_accuracy: 0.8684 - val_age_out_accuracy: 0.0483\n",
            "\n",
            "Epoch 00010: val_loss did not improve from 7.68651\n",
            "Epoch 11/600\n",
            "278/278 [==============================] - 4s 13ms/step - loss: 7.4149 - sex_out_loss: 0.3062 - age_out_loss: 6.9828 - sex_out_accuracy: 0.8649 - age_out_accuracy: 0.0472 - val_loss: 8.7523 - val_sex_out_loss: 0.3085 - val_age_out_loss: 8.3132 - val_sex_out_accuracy: 0.8574 - val_age_out_accuracy: 0.0483\n",
            "\n",
            "Epoch 00011: val_loss did not improve from 7.68651\n",
            "Epoch 12/600\n",
            "278/278 [==============================] - 4s 13ms/step - loss: 7.1563 - sex_out_loss: 0.2884 - age_out_loss: 6.7355 - sex_out_accuracy: 0.8757 - age_out_accuracy: 0.0455 - val_loss: 9.4372 - val_sex_out_loss: 0.2850 - val_age_out_loss: 9.0149 - val_sex_out_accuracy: 0.8724 - val_age_out_accuracy: 0.0483\n",
            "\n",
            "Epoch 00012: val_loss did not improve from 7.68651\n",
            "Epoch 13/600\n",
            "278/278 [==============================] - 4s 13ms/step - loss: 7.0570 - sex_out_loss: 0.2908 - age_out_loss: 6.6274 - sex_out_accuracy: 0.8719 - age_out_accuracy: 0.0466 - val_loss: 7.4625 - val_sex_out_loss: 0.2843 - val_age_out_loss: 7.0353 - val_sex_out_accuracy: 0.8819 - val_age_out_accuracy: 0.0483\n",
            "\n",
            "Epoch 00013: val_loss improved from 7.68651 to 7.46251, saving model to Age_detection_202.h5\n",
            "Epoch 14/600\n",
            "278/278 [==============================] - 4s 13ms/step - loss: 6.9757 - sex_out_loss: 0.2875 - age_out_loss: 6.5433 - sex_out_accuracy: 0.8727 - age_out_accuracy: 0.0483 - val_loss: 7.5594 - val_sex_out_loss: 0.2904 - val_age_out_loss: 7.1187 - val_sex_out_accuracy: 0.8689 - val_age_out_accuracy: 0.0483\n",
            "\n",
            "Epoch 00014: val_loss did not improve from 7.46251\n",
            "Epoch 15/600\n",
            "278/278 [==============================] - 4s 13ms/step - loss: 6.8009 - sex_out_loss: 0.2763 - age_out_loss: 6.3728 - sex_out_accuracy: 0.8788 - age_out_accuracy: 0.0477 - val_loss: 7.0993 - val_sex_out_loss: 0.2822 - val_age_out_loss: 6.6602 - val_sex_out_accuracy: 0.8751 - val_age_out_accuracy: 0.0483\n",
            "\n",
            "Epoch 00015: val_loss improved from 7.46251 to 7.09926, saving model to Age_detection_202.h5\n",
            "Epoch 16/600\n",
            "278/278 [==============================] - 4s 13ms/step - loss: 6.6278 - sex_out_loss: 0.2666 - age_out_loss: 6.2027 - sex_out_accuracy: 0.8880 - age_out_accuracy: 0.0467 - val_loss: 7.7163 - val_sex_out_loss: 0.2676 - val_age_out_loss: 7.2861 - val_sex_out_accuracy: 0.8822 - val_age_out_accuracy: 0.0483\n",
            "\n",
            "Epoch 00016: val_loss did not improve from 7.09926\n",
            "Epoch 17/600\n",
            "278/278 [==============================] - 4s 13ms/step - loss: 6.5695 - sex_out_loss: 0.2599 - age_out_loss: 6.1456 - sex_out_accuracy: 0.8863 - age_out_accuracy: 0.0468 - val_loss: 8.0163 - val_sex_out_loss: 0.2825 - val_age_out_loss: 7.5660 - val_sex_out_accuracy: 0.8748 - val_age_out_accuracy: 0.0483\n",
            "\n",
            "Epoch 00017: val_loss did not improve from 7.09926\n",
            "Epoch 18/600\n",
            "278/278 [==============================] - 4s 13ms/step - loss: 6.5337 - sex_out_loss: 0.2638 - age_out_loss: 6.1008 - sex_out_accuracy: 0.8883 - age_out_accuracy: 0.0457 - val_loss: 7.0719 - val_sex_out_loss: 0.3025 - val_age_out_loss: 6.5944 - val_sex_out_accuracy: 0.8591 - val_age_out_accuracy: 0.0483\n",
            "\n",
            "Epoch 00018: val_loss improved from 7.09926 to 7.07194, saving model to Age_detection_202.h5\n",
            "Epoch 19/600\n",
            "278/278 [==============================] - 4s 13ms/step - loss: 6.4441 - sex_out_loss: 0.2643 - age_out_loss: 6.0033 - sex_out_accuracy: 0.8836 - age_out_accuracy: 0.0488 - val_loss: 7.9161 - val_sex_out_loss: 0.2771 - val_age_out_loss: 7.4584 - val_sex_out_accuracy: 0.8775 - val_age_out_accuracy: 0.0483\n",
            "\n",
            "Epoch 00019: val_loss did not improve from 7.07194\n",
            "Epoch 20/600\n",
            "278/278 [==============================] - 4s 13ms/step - loss: 6.3308 - sex_out_loss: 0.2592 - age_out_loss: 5.8896 - sex_out_accuracy: 0.8860 - age_out_accuracy: 0.0459 - val_loss: 7.7443 - val_sex_out_loss: 0.2743 - val_age_out_loss: 7.2846 - val_sex_out_accuracy: 0.8787 - val_age_out_accuracy: 0.0483\n",
            "\n",
            "Epoch 00020: val_loss did not improve from 7.07194\n",
            "Epoch 21/600\n",
            "278/278 [==============================] - 4s 13ms/step - loss: 6.2082 - sex_out_loss: 0.2504 - age_out_loss: 5.7706 - sex_out_accuracy: 0.8912 - age_out_accuracy: 0.0493 - val_loss: 8.1927 - val_sex_out_loss: 0.2654 - val_age_out_loss: 7.7353 - val_sex_out_accuracy: 0.8822 - val_age_out_accuracy: 0.0483\n",
            "\n",
            "Epoch 00021: val_loss did not improve from 7.07194\n",
            "Epoch 22/600\n",
            "278/278 [==============================] - 4s 13ms/step - loss: 6.1491 - sex_out_loss: 0.2489 - age_out_loss: 5.7064 - sex_out_accuracy: 0.8890 - age_out_accuracy: 0.0498 - val_loss: 8.2508 - val_sex_out_loss: 0.2663 - val_age_out_loss: 7.7855 - val_sex_out_accuracy: 0.8832 - val_age_out_accuracy: 0.0483\n",
            "\n",
            "Epoch 00022: val_loss did not improve from 7.07194\n",
            "Epoch 23/600\n",
            "278/278 [==============================] - 4s 13ms/step - loss: 6.1342 - sex_out_loss: 0.2454 - age_out_loss: 5.6885 - sex_out_accuracy: 0.8928 - age_out_accuracy: 0.0452 - val_loss: 6.8740 - val_sex_out_loss: 0.2590 - val_age_out_loss: 6.4112 - val_sex_out_accuracy: 0.8878 - val_age_out_accuracy: 0.0483\n",
            "\n",
            "Epoch 00023: val_loss improved from 7.07194 to 6.87402, saving model to Age_detection_202.h5\n",
            "Epoch 24/600\n",
            "278/278 [==============================] - 4s 13ms/step - loss: 6.1085 - sex_out_loss: 0.2361 - age_out_loss: 5.6669 - sex_out_accuracy: 0.8978 - age_out_accuracy: 0.0484 - val_loss: 7.6025 - val_sex_out_loss: 0.2655 - val_age_out_loss: 7.1271 - val_sex_out_accuracy: 0.8814 - val_age_out_accuracy: 0.0483\n",
            "\n",
            "Epoch 00024: val_loss did not improve from 6.87402\n",
            "Epoch 25/600\n",
            "278/278 [==============================] - 4s 13ms/step - loss: 5.9280 - sex_out_loss: 0.2364 - age_out_loss: 5.4809 - sex_out_accuracy: 0.8956 - age_out_accuracy: 0.0471 - val_loss: 7.1514 - val_sex_out_loss: 0.2647 - val_age_out_loss: 6.6728 - val_sex_out_accuracy: 0.8834 - val_age_out_accuracy: 0.0483\n",
            "\n",
            "Epoch 00025: val_loss did not improve from 6.87402\n",
            "Epoch 26/600\n",
            "278/278 [==============================] - 4s 13ms/step - loss: 6.0326 - sex_out_loss: 0.2372 - age_out_loss: 5.5801 - sex_out_accuracy: 0.8968 - age_out_accuracy: 0.0479 - val_loss: 7.3434 - val_sex_out_loss: 0.2714 - val_age_out_loss: 6.8535 - val_sex_out_accuracy: 0.8797 - val_age_out_accuracy: 0.0483\n",
            "\n",
            "Epoch 00026: val_loss did not improve from 6.87402\n",
            "Epoch 27/600\n",
            "278/278 [==============================] - 4s 13ms/step - loss: 5.9233 - sex_out_loss: 0.2351 - age_out_loss: 5.4677 - sex_out_accuracy: 0.8988 - age_out_accuracy: 0.0484 - val_loss: 7.4295 - val_sex_out_loss: 0.2863 - val_age_out_loss: 6.9180 - val_sex_out_accuracy: 0.8714 - val_age_out_accuracy: 0.0483\n",
            "\n",
            "Epoch 00027: val_loss did not improve from 6.87402\n",
            "Epoch 28/600\n",
            "278/278 [==============================] - 4s 13ms/step - loss: 5.8113 - sex_out_loss: 0.2258 - age_out_loss: 5.3588 - sex_out_accuracy: 0.9032 - age_out_accuracy: 0.0468 - val_loss: 7.0873 - val_sex_out_loss: 0.2657 - val_age_out_loss: 6.5910 - val_sex_out_accuracy: 0.8763 - val_age_out_accuracy: 0.0483\n",
            "\n",
            "Epoch 00028: val_loss did not improve from 6.87402\n",
            "Epoch 29/600\n",
            "278/278 [==============================] - 4s 13ms/step - loss: 5.7994 - sex_out_loss: 0.2349 - age_out_loss: 5.3326 - sex_out_accuracy: 0.9006 - age_out_accuracy: 0.0451 - val_loss: 7.0575 - val_sex_out_loss: 0.2765 - val_age_out_loss: 6.5456 - val_sex_out_accuracy: 0.8757 - val_age_out_accuracy: 0.0483\n",
            "\n",
            "Epoch 00029: val_loss did not improve from 6.87402\n",
            "Epoch 30/600\n",
            "278/278 [==============================] - 4s 13ms/step - loss: 5.7479 - sex_out_loss: 0.2253 - age_out_loss: 5.2853 - sex_out_accuracy: 0.9046 - age_out_accuracy: 0.0498 - val_loss: 8.1019 - val_sex_out_loss: 0.2620 - val_age_out_loss: 7.5991 - val_sex_out_accuracy: 0.8824 - val_age_out_accuracy: 0.0483\n",
            "\n",
            "Epoch 00030: val_loss did not improve from 6.87402\n",
            "Epoch 31/600\n",
            "278/278 [==============================] - 4s 13ms/step - loss: 5.6547 - sex_out_loss: 0.2253 - age_out_loss: 5.1875 - sex_out_accuracy: 0.9070 - age_out_accuracy: 0.0466 - val_loss: 6.8591 - val_sex_out_loss: 0.2698 - val_age_out_loss: 6.3445 - val_sex_out_accuracy: 0.8824 - val_age_out_accuracy: 0.0483\n",
            "\n",
            "Epoch 00031: val_loss improved from 6.87402 to 6.85915, saving model to Age_detection_202.h5\n",
            "Epoch 32/600\n",
            "278/278 [==============================] - 4s 13ms/step - loss: 5.5714 - sex_out_loss: 0.2213 - age_out_loss: 5.1041 - sex_out_accuracy: 0.9062 - age_out_accuracy: 0.0475 - val_loss: 8.1683 - val_sex_out_loss: 0.2642 - val_age_out_loss: 7.6545 - val_sex_out_accuracy: 0.8821 - val_age_out_accuracy: 0.0483\n",
            "\n",
            "Epoch 00032: val_loss did not improve from 6.85915\n",
            "Epoch 33/600\n",
            "278/278 [==============================] - 4s 13ms/step - loss: 5.6567 - sex_out_loss: 0.2171 - age_out_loss: 5.1889 - sex_out_accuracy: 0.9085 - age_out_accuracy: 0.0455 - val_loss: 6.6914 - val_sex_out_loss: 0.2589 - val_age_out_loss: 6.1783 - val_sex_out_accuracy: 0.8836 - val_age_out_accuracy: 0.0483\n",
            "\n",
            "Epoch 00033: val_loss improved from 6.85915 to 6.69135, saving model to Age_detection_202.h5\n",
            "Epoch 34/600\n",
            "278/278 [==============================] - 4s 13ms/step - loss: 5.5928 - sex_out_loss: 0.2164 - age_out_loss: 5.1210 - sex_out_accuracy: 0.9082 - age_out_accuracy: 0.0453 - val_loss: 8.0560 - val_sex_out_loss: 0.2715 - val_age_out_loss: 7.5254 - val_sex_out_accuracy: 0.8778 - val_age_out_accuracy: 0.0483\n",
            "\n",
            "Epoch 00034: val_loss did not improve from 6.69135\n",
            "Epoch 35/600\n",
            "278/278 [==============================] - 4s 13ms/step - loss: 5.5305 - sex_out_loss: 0.2150 - age_out_loss: 5.0555 - sex_out_accuracy: 0.9059 - age_out_accuracy: 0.0464 - val_loss: 7.2179 - val_sex_out_loss: 0.2703 - val_age_out_loss: 6.6841 - val_sex_out_accuracy: 0.8814 - val_age_out_accuracy: 0.0483\n",
            "\n",
            "Epoch 00035: val_loss did not improve from 6.69135\n",
            "Epoch 36/600\n",
            "278/278 [==============================] - 4s 13ms/step - loss: 5.4896 - sex_out_loss: 0.2094 - age_out_loss: 5.0158 - sex_out_accuracy: 0.9112 - age_out_accuracy: 0.0474 - val_loss: 6.8262 - val_sex_out_loss: 0.2651 - val_age_out_loss: 6.2928 - val_sex_out_accuracy: 0.8834 - val_age_out_accuracy: 0.0483\n",
            "\n",
            "Epoch 00036: val_loss did not improve from 6.69135\n",
            "Epoch 37/600\n",
            "278/278 [==============================] - 4s 13ms/step - loss: 5.3784 - sex_out_loss: 0.2134 - age_out_loss: 4.8956 - sex_out_accuracy: 0.9093 - age_out_accuracy: 0.0479 - val_loss: 7.0801 - val_sex_out_loss: 0.2628 - val_age_out_loss: 6.5453 - val_sex_out_accuracy: 0.8836 - val_age_out_accuracy: 0.0483\n",
            "\n",
            "Epoch 00037: val_loss did not improve from 6.69135\n",
            "Epoch 38/600\n",
            "278/278 [==============================] - 4s 13ms/step - loss: 5.3973 - sex_out_loss: 0.2083 - age_out_loss: 4.9156 - sex_out_accuracy: 0.9143 - age_out_accuracy: 0.0452 - val_loss: 7.5900 - val_sex_out_loss: 0.2582 - val_age_out_loss: 7.0548 - val_sex_out_accuracy: 0.8870 - val_age_out_accuracy: 0.0483\n",
            "\n",
            "Epoch 00038: val_loss did not improve from 6.69135\n",
            "Epoch 39/600\n",
            "278/278 [==============================] - 4s 13ms/step - loss: 5.3067 - sex_out_loss: 0.1961 - age_out_loss: 4.8327 - sex_out_accuracy: 0.9172 - age_out_accuracy: 0.0483 - val_loss: 7.0661 - val_sex_out_loss: 0.2687 - val_age_out_loss: 6.5169 - val_sex_out_accuracy: 0.8827 - val_age_out_accuracy: 0.0483\n",
            "\n",
            "Epoch 00039: val_loss did not improve from 6.69135\n",
            "Epoch 40/600\n",
            "278/278 [==============================] - 4s 13ms/step - loss: 5.3472 - sex_out_loss: 0.1993 - age_out_loss: 4.8660 - sex_out_accuracy: 0.9185 - age_out_accuracy: 0.0449 - val_loss: 7.1128 - val_sex_out_loss: 0.2581 - val_age_out_loss: 6.5693 - val_sex_out_accuracy: 0.8838 - val_age_out_accuracy: 0.0483\n",
            "\n",
            "Epoch 00040: val_loss did not improve from 6.69135\n",
            "Epoch 41/600\n",
            "278/278 [==============================] - 4s 13ms/step - loss: 5.3285 - sex_out_loss: 0.1907 - age_out_loss: 4.8511 - sex_out_accuracy: 0.9185 - age_out_accuracy: 0.0444 - val_loss: 7.1321 - val_sex_out_loss: 0.2592 - val_age_out_loss: 6.5813 - val_sex_out_accuracy: 0.8836 - val_age_out_accuracy: 0.0483\n",
            "\n",
            "Epoch 00041: val_loss did not improve from 6.69135\n",
            "Epoch 42/600\n",
            "278/278 [==============================] - 4s 13ms/step - loss: 5.2513 - sex_out_loss: 0.2032 - age_out_loss: 4.7556 - sex_out_accuracy: 0.9145 - age_out_accuracy: 0.0479 - val_loss: 8.5019 - val_sex_out_loss: 0.2595 - val_age_out_loss: 7.9479 - val_sex_out_accuracy: 0.8816 - val_age_out_accuracy: 0.0483\n",
            "\n",
            "Epoch 00042: val_loss did not improve from 6.69135\n",
            "Epoch 43/600\n",
            "278/278 [==============================] - 4s 13ms/step - loss: 5.3632 - sex_out_loss: 0.1923 - age_out_loss: 4.8754 - sex_out_accuracy: 0.9211 - age_out_accuracy: 0.0459 - val_loss: 7.9793 - val_sex_out_loss: 0.2568 - val_age_out_loss: 7.4238 - val_sex_out_accuracy: 0.8861 - val_age_out_accuracy: 0.0483\n",
            "\n",
            "Epoch 00043: val_loss did not improve from 6.69135\n",
            "Epoch 44/600\n",
            "278/278 [==============================] - 4s 13ms/step - loss: 5.2997 - sex_out_loss: 0.1949 - age_out_loss: 4.8052 - sex_out_accuracy: 0.9187 - age_out_accuracy: 0.0486 - val_loss: 7.0642 - val_sex_out_loss: 0.2744 - val_age_out_loss: 6.4870 - val_sex_out_accuracy: 0.8836 - val_age_out_accuracy: 0.0483\n",
            "\n",
            "Epoch 00044: val_loss did not improve from 6.69135\n",
            "Epoch 45/600\n",
            "278/278 [==============================] - 4s 13ms/step - loss: 5.2768 - sex_out_loss: 0.1861 - age_out_loss: 4.7868 - sex_out_accuracy: 0.9226 - age_out_accuracy: 0.0473 - val_loss: 7.0672 - val_sex_out_loss: 0.2676 - val_age_out_loss: 6.4926 - val_sex_out_accuracy: 0.8831 - val_age_out_accuracy: 0.0483\n",
            "\n",
            "Epoch 00045: val_loss did not improve from 6.69135\n",
            "Epoch 46/600\n",
            "278/278 [==============================] - 4s 13ms/step - loss: 5.1284 - sex_out_loss: 0.1926 - age_out_loss: 4.6281 - sex_out_accuracy: 0.9207 - age_out_accuracy: 0.0476 - val_loss: 7.1301 - val_sex_out_loss: 0.2744 - val_age_out_loss: 6.5453 - val_sex_out_accuracy: 0.8804 - val_age_out_accuracy: 0.0483\n",
            "\n",
            "Epoch 00046: val_loss did not improve from 6.69135\n",
            "Epoch 47/600\n",
            "278/278 [==============================] - 4s 13ms/step - loss: 5.1704 - sex_out_loss: 0.1866 - age_out_loss: 4.6723 - sex_out_accuracy: 0.9252 - age_out_accuracy: 0.0465 - val_loss: 7.6773 - val_sex_out_loss: 0.2662 - val_age_out_loss: 7.0967 - val_sex_out_accuracy: 0.8777 - val_age_out_accuracy: 0.0483\n",
            "\n",
            "Epoch 00047: val_loss did not improve from 6.69135\n",
            "Epoch 48/600\n",
            "278/278 [==============================] - 4s 13ms/step - loss: 5.0982 - sex_out_loss: 0.1871 - age_out_loss: 4.5960 - sex_out_accuracy: 0.9261 - age_out_accuracy: 0.0461 - val_loss: 7.6067 - val_sex_out_loss: 0.2668 - val_age_out_loss: 7.0217 - val_sex_out_accuracy: 0.8848 - val_age_out_accuracy: 0.0483\n",
            "\n",
            "Epoch 00048: val_loss did not improve from 6.69135\n",
            "Epoch 49/600\n",
            "278/278 [==============================] - 4s 13ms/step - loss: 5.1743 - sex_out_loss: 0.1896 - age_out_loss: 4.6651 - sex_out_accuracy: 0.9218 - age_out_accuracy: 0.0460 - val_loss: 7.2518 - val_sex_out_loss: 0.2711 - val_age_out_loss: 6.6580 - val_sex_out_accuracy: 0.8821 - val_age_out_accuracy: 0.0483\n",
            "\n",
            "Epoch 00049: val_loss did not improve from 6.69135\n",
            "Epoch 50/600\n",
            "278/278 [==============================] - 4s 13ms/step - loss: 5.0862 - sex_out_loss: 0.1868 - age_out_loss: 4.5755 - sex_out_accuracy: 0.9207 - age_out_accuracy: 0.0511 - val_loss: 7.1611 - val_sex_out_loss: 0.2539 - val_age_out_loss: 6.5794 - val_sex_out_accuracy: 0.8892 - val_age_out_accuracy: 0.0483\n",
            "\n",
            "Epoch 00050: val_loss did not improve from 6.69135\n",
            "Epoch 51/600\n",
            "278/278 [==============================] - 4s 13ms/step - loss: 5.0893 - sex_out_loss: 0.1800 - age_out_loss: 4.5804 - sex_out_accuracy: 0.9274 - age_out_accuracy: 0.0446 - val_loss: 6.9894 - val_sex_out_loss: 0.2689 - val_age_out_loss: 6.3876 - val_sex_out_accuracy: 0.8831 - val_age_out_accuracy: 0.0483\n",
            "\n",
            "Epoch 00051: val_loss did not improve from 6.69135\n",
            "Epoch 52/600\n",
            "278/278 [==============================] - 4s 13ms/step - loss: 5.0599 - sex_out_loss: 0.1819 - age_out_loss: 4.5440 - sex_out_accuracy: 0.9253 - age_out_accuracy: 0.0451 - val_loss: 7.0860 - val_sex_out_loss: 0.2781 - val_age_out_loss: 6.4706 - val_sex_out_accuracy: 0.8831 - val_age_out_accuracy: 0.0483\n",
            "\n",
            "Epoch 00052: val_loss did not improve from 6.69135\n",
            "Epoch 53/600\n",
            "278/278 [==============================] - 4s 13ms/step - loss: 5.0246 - sex_out_loss: 0.1754 - age_out_loss: 4.5108 - sex_out_accuracy: 0.9292 - age_out_accuracy: 0.0463 - val_loss: 7.1374 - val_sex_out_loss: 0.2706 - val_age_out_loss: 6.5254 - val_sex_out_accuracy: 0.8807 - val_age_out_accuracy: 0.0483\n",
            "\n",
            "Epoch 00053: val_loss did not improve from 6.69135\n",
            "Epoch 54/600\n",
            "278/278 [==============================] - 4s 13ms/step - loss: 4.9879 - sex_out_loss: 0.1770 - age_out_loss: 4.4688 - sex_out_accuracy: 0.9288 - age_out_accuracy: 0.0473 - val_loss: 6.8924 - val_sex_out_loss: 0.2615 - val_age_out_loss: 6.2865 - val_sex_out_accuracy: 0.8854 - val_age_out_accuracy: 0.0483\n",
            "\n",
            "Epoch 00054: val_loss did not improve from 6.69135\n",
            "Epoch 55/600\n",
            "278/278 [==============================] - 4s 13ms/step - loss: 4.9829 - sex_out_loss: 0.1782 - age_out_loss: 4.4596 - sex_out_accuracy: 0.9289 - age_out_accuracy: 0.0450 - val_loss: 6.9374 - val_sex_out_loss: 0.2604 - val_age_out_loss: 6.3295 - val_sex_out_accuracy: 0.8880 - val_age_out_accuracy: 0.0481\n",
            "\n",
            "Epoch 00055: val_loss did not improve from 6.69135\n",
            "Epoch 56/600\n",
            "278/278 [==============================] - 4s 13ms/step - loss: 5.0038 - sex_out_loss: 0.1617 - age_out_loss: 4.4937 - sex_out_accuracy: 0.9350 - age_out_accuracy: 0.0443 - val_loss: 6.8250 - val_sex_out_loss: 0.2638 - val_age_out_loss: 6.2097 - val_sex_out_accuracy: 0.8880 - val_age_out_accuracy: 0.0479\n",
            "\n",
            "Epoch 00056: val_loss did not improve from 6.69135\n",
            "Epoch 57/600\n",
            "278/278 [==============================] - 4s 13ms/step - loss: 5.0451 - sex_out_loss: 0.1718 - age_out_loss: 4.5211 - sex_out_accuracy: 0.9301 - age_out_accuracy: 0.0474 - val_loss: 6.9901 - val_sex_out_loss: 0.2669 - val_age_out_loss: 6.3684 - val_sex_out_accuracy: 0.8871 - val_age_out_accuracy: 0.0477\n",
            "\n",
            "Epoch 00057: val_loss did not improve from 6.69135\n",
            "Epoch 58/600\n",
            "278/278 [==============================] - 4s 13ms/step - loss: 4.9325 - sex_out_loss: 0.1671 - age_out_loss: 4.4098 - sex_out_accuracy: 0.9322 - age_out_accuracy: 0.0445 - val_loss: 7.2704 - val_sex_out_loss: 0.2683 - val_age_out_loss: 6.6440 - val_sex_out_accuracy: 0.8843 - val_age_out_accuracy: 0.0483\n",
            "\n",
            "Epoch 00058: val_loss did not improve from 6.69135\n",
            "Epoch 59/600\n",
            "278/278 [==============================] - 4s 13ms/step - loss: 4.8290 - sex_out_loss: 0.1664 - age_out_loss: 4.3038 - sex_out_accuracy: 0.9288 - age_out_accuracy: 0.0469 - val_loss: 7.8829 - val_sex_out_loss: 0.2727 - val_age_out_loss: 7.2496 - val_sex_out_accuracy: 0.8826 - val_age_out_accuracy: 0.0483\n",
            "\n",
            "Epoch 00059: val_loss did not improve from 6.69135\n",
            "Epoch 60/600\n",
            "278/278 [==============================] - 4s 13ms/step - loss: 4.9557 - sex_out_loss: 0.1680 - age_out_loss: 4.4261 - sex_out_accuracy: 0.9284 - age_out_accuracy: 0.0423 - val_loss: 7.7732 - val_sex_out_loss: 0.2620 - val_age_out_loss: 7.1470 - val_sex_out_accuracy: 0.8885 - val_age_out_accuracy: 0.0479\n",
            "\n",
            "Epoch 00060: val_loss did not improve from 6.69135\n",
            "Epoch 61/600\n",
            "278/278 [==============================] - 4s 13ms/step - loss: 4.8666 - sex_out_loss: 0.1570 - age_out_loss: 4.3446 - sex_out_accuracy: 0.9377 - age_out_accuracy: 0.0416 - val_loss: 7.6603 - val_sex_out_loss: 0.2663 - val_age_out_loss: 7.0266 - val_sex_out_accuracy: 0.8836 - val_age_out_accuracy: 0.0483\n",
            "\n",
            "Epoch 00061: val_loss did not improve from 6.69135\n",
            "Epoch 62/600\n",
            "278/278 [==============================] - 4s 13ms/step - loss: 4.9953 - sex_out_loss: 0.1656 - age_out_loss: 4.4612 - sex_out_accuracy: 0.9317 - age_out_accuracy: 0.0443 - val_loss: 7.0666 - val_sex_out_loss: 0.2839 - val_age_out_loss: 6.4112 - val_sex_out_accuracy: 0.8829 - val_age_out_accuracy: 0.0483\n",
            "\n",
            "Epoch 00062: val_loss did not improve from 6.69135\n",
            "Epoch 63/600\n",
            "278/278 [==============================] - 4s 13ms/step - loss: 4.9231 - sex_out_loss: 0.1556 - age_out_loss: 4.3950 - sex_out_accuracy: 0.9380 - age_out_accuracy: 0.0431 - val_loss: 6.7792 - val_sex_out_loss: 0.2766 - val_age_out_loss: 6.1275 - val_sex_out_accuracy: 0.8822 - val_age_out_accuracy: 0.0483\n",
            "\n",
            "Epoch 00063: val_loss did not improve from 6.69135\n",
            "Epoch 64/600\n",
            "278/278 [==============================] - 4s 13ms/step - loss: 4.9110 - sex_out_loss: 0.1685 - age_out_loss: 4.3662 - sex_out_accuracy: 0.9321 - age_out_accuracy: 0.0430 - val_loss: 6.7621 - val_sex_out_loss: 0.2678 - val_age_out_loss: 6.1153 - val_sex_out_accuracy: 0.8868 - val_age_out_accuracy: 0.0481\n",
            "\n",
            "Epoch 00064: val_loss did not improve from 6.69135\n",
            "Epoch 65/600\n",
            "278/278 [==============================] - 4s 13ms/step - loss: 4.7174 - sex_out_loss: 0.1613 - age_out_loss: 4.1765 - sex_out_accuracy: 0.9331 - age_out_accuracy: 0.0457 - val_loss: 8.3020 - val_sex_out_loss: 0.2692 - val_age_out_loss: 7.6504 - val_sex_out_accuracy: 0.8848 - val_age_out_accuracy: 0.0483\n",
            "\n",
            "Epoch 00065: val_loss did not improve from 6.69135\n",
            "Epoch 66/600\n",
            "278/278 [==============================] - 4s 13ms/step - loss: 4.8533 - sex_out_loss: 0.1531 - age_out_loss: 4.3165 - sex_out_accuracy: 0.9382 - age_out_accuracy: 0.0416 - val_loss: 7.4254 - val_sex_out_loss: 0.2668 - val_age_out_loss: 6.7710 - val_sex_out_accuracy: 0.8903 - val_age_out_accuracy: 0.0481\n",
            "\n",
            "Epoch 00066: val_loss did not improve from 6.69135\n",
            "Epoch 67/600\n",
            "278/278 [==============================] - 4s 13ms/step - loss: 4.7885 - sex_out_loss: 0.1489 - age_out_loss: 4.2512 - sex_out_accuracy: 0.9390 - age_out_accuracy: 0.0438 - val_loss: 6.8126 - val_sex_out_loss: 0.2697 - val_age_out_loss: 6.1518 - val_sex_out_accuracy: 0.8824 - val_age_out_accuracy: 0.0474\n",
            "\n",
            "Epoch 00067: val_loss did not improve from 6.69135\n",
            "Epoch 68/600\n",
            "278/278 [==============================] - 4s 13ms/step - loss: 4.8353 - sex_out_loss: 0.1478 - age_out_loss: 4.2956 - sex_out_accuracy: 0.9391 - age_out_accuracy: 0.0477 - val_loss: 8.0889 - val_sex_out_loss: 0.2730 - val_age_out_loss: 7.4220 - val_sex_out_accuracy: 0.8912 - val_age_out_accuracy: 0.0483\n",
            "\n",
            "Epoch 00068: val_loss did not improve from 6.69135\n",
            "Epoch 69/600\n",
            "278/278 [==============================] - 4s 13ms/step - loss: 4.8308 - sex_out_loss: 0.1423 - age_out_loss: 4.2935 - sex_out_accuracy: 0.9429 - age_out_accuracy: 0.0426 - val_loss: 7.3899 - val_sex_out_loss: 0.2716 - val_age_out_loss: 6.7206 - val_sex_out_accuracy: 0.8851 - val_age_out_accuracy: 0.0481\n",
            "\n",
            "Epoch 00069: val_loss did not improve from 6.69135\n",
            "Epoch 70/600\n",
            "278/278 [==============================] - 4s 13ms/step - loss: 4.6999 - sex_out_loss: 0.1465 - age_out_loss: 4.1548 - sex_out_accuracy: 0.9414 - age_out_accuracy: 0.0431 - val_loss: 7.0345 - val_sex_out_loss: 0.2725 - val_age_out_loss: 6.3609 - val_sex_out_accuracy: 0.8907 - val_age_out_accuracy: 0.0479\n",
            "\n",
            "Epoch 00070: val_loss did not improve from 6.69135\n",
            "Epoch 71/600\n",
            "278/278 [==============================] - 4s 13ms/step - loss: 4.8332 - sex_out_loss: 0.1450 - age_out_loss: 4.2863 - sex_out_accuracy: 0.9422 - age_out_accuracy: 0.0447 - val_loss: 7.1515 - val_sex_out_loss: 0.2775 - val_age_out_loss: 6.4688 - val_sex_out_accuracy: 0.8881 - val_age_out_accuracy: 0.0479\n",
            "\n",
            "Epoch 00071: val_loss did not improve from 6.69135\n",
            "Epoch 72/600\n",
            "278/278 [==============================] - 4s 13ms/step - loss: 4.7629 - sex_out_loss: 0.1460 - age_out_loss: 4.2104 - sex_out_accuracy: 0.9390 - age_out_accuracy: 0.0414 - val_loss: 7.8700 - val_sex_out_loss: 0.2763 - val_age_out_loss: 7.1844 - val_sex_out_accuracy: 0.8868 - val_age_out_accuracy: 0.0483\n",
            "\n",
            "Epoch 00072: val_loss did not improve from 6.69135\n",
            "Epoch 73/600\n",
            "278/278 [==============================] - 4s 13ms/step - loss: 4.7227 - sex_out_loss: 0.1358 - age_out_loss: 4.1766 - sex_out_accuracy: 0.9434 - age_out_accuracy: 0.0412 - val_loss: 7.3732 - val_sex_out_loss: 0.2875 - val_age_out_loss: 6.6728 - val_sex_out_accuracy: 0.8892 - val_age_out_accuracy: 0.0481\n",
            "\n",
            "Epoch 00073: val_loss did not improve from 6.69135\n",
            "Epoch 74/600\n",
            "278/278 [==============================] - 4s 13ms/step - loss: 4.7175 - sex_out_loss: 0.1421 - age_out_loss: 4.1619 - sex_out_accuracy: 0.9450 - age_out_accuracy: 0.0442 - val_loss: 7.1835 - val_sex_out_loss: 0.2757 - val_age_out_loss: 6.4918 - val_sex_out_accuracy: 0.8905 - val_age_out_accuracy: 0.0479\n",
            "\n",
            "Epoch 00074: val_loss did not improve from 6.69135\n",
            "Epoch 75/600\n",
            "278/278 [==============================] - 4s 13ms/step - loss: 4.7121 - sex_out_loss: 0.1426 - age_out_loss: 4.1530 - sex_out_accuracy: 0.9434 - age_out_accuracy: 0.0435 - val_loss: 7.2883 - val_sex_out_loss: 0.2718 - val_age_out_loss: 6.5979 - val_sex_out_accuracy: 0.8853 - val_age_out_accuracy: 0.0479\n",
            "\n",
            "Epoch 00075: val_loss did not improve from 6.69135\n",
            "Epoch 76/600\n",
            "278/278 [==============================] - 4s 13ms/step - loss: 4.7106 - sex_out_loss: 0.1415 - age_out_loss: 4.1500 - sex_out_accuracy: 0.9421 - age_out_accuracy: 0.0422 - val_loss: 7.4944 - val_sex_out_loss: 0.2862 - val_age_out_loss: 6.7871 - val_sex_out_accuracy: 0.8854 - val_age_out_accuracy: 0.0483\n",
            "\n",
            "Epoch 00076: val_loss did not improve from 6.69135\n",
            "Epoch 77/600\n",
            "278/278 [==============================] - 4s 13ms/step - loss: 4.6609 - sex_out_loss: 0.1323 - age_out_loss: 4.1065 - sex_out_accuracy: 0.9475 - age_out_accuracy: 0.0423 - val_loss: 7.0616 - val_sex_out_loss: 0.2720 - val_age_out_loss: 6.3648 - val_sex_out_accuracy: 0.8883 - val_age_out_accuracy: 0.0477\n",
            "\n",
            "Epoch 00077: val_loss did not improve from 6.69135\n",
            "Epoch 78/600\n",
            "278/278 [==============================] - 4s 13ms/step - loss: 4.7689 - sex_out_loss: 0.1300 - age_out_loss: 4.2133 - sex_out_accuracy: 0.9503 - age_out_accuracy: 0.0421 - val_loss: 7.3429 - val_sex_out_loss: 0.2954 - val_age_out_loss: 6.6195 - val_sex_out_accuracy: 0.8838 - val_age_out_accuracy: 0.0483\n",
            "\n",
            "Epoch 00078: val_loss did not improve from 6.69135\n",
            "Epoch 79/600\n",
            "278/278 [==============================] - 4s 13ms/step - loss: 4.6372 - sex_out_loss: 0.1388 - age_out_loss: 4.0694 - sex_out_accuracy: 0.9424 - age_out_accuracy: 0.0434 - val_loss: 7.2342 - val_sex_out_loss: 0.2880 - val_age_out_loss: 6.5141 - val_sex_out_accuracy: 0.8886 - val_age_out_accuracy: 0.0481\n",
            "\n",
            "Epoch 00079: val_loss did not improve from 6.69135\n",
            "Epoch 80/600\n",
            "278/278 [==============================] - 4s 13ms/step - loss: 4.5837 - sex_out_loss: 0.1233 - age_out_loss: 4.0277 - sex_out_accuracy: 0.9509 - age_out_accuracy: 0.0415 - val_loss: 7.9798 - val_sex_out_loss: 0.2931 - val_age_out_loss: 7.2521 - val_sex_out_accuracy: 0.8824 - val_age_out_accuracy: 0.0483\n",
            "\n",
            "Epoch 00080: val_loss did not improve from 6.69135\n",
            "Epoch 81/600\n",
            "278/278 [==============================] - 4s 14ms/step - loss: 4.6267 - sex_out_loss: 0.1314 - age_out_loss: 4.0599 - sex_out_accuracy: 0.9465 - age_out_accuracy: 0.0426 - val_loss: 7.2793 - val_sex_out_loss: 0.2870 - val_age_out_loss: 6.5546 - val_sex_out_accuracy: 0.8903 - val_age_out_accuracy: 0.0483\n",
            "\n",
            "Epoch 00081: val_loss did not improve from 6.69135\n",
            "Epoch 82/600\n",
            "278/278 [==============================] - 4s 13ms/step - loss: 4.5957 - sex_out_loss: 0.1271 - age_out_loss: 4.0302 - sex_out_accuracy: 0.9476 - age_out_accuracy: 0.0432 - val_loss: 7.3798 - val_sex_out_loss: 0.3046 - val_age_out_loss: 6.6340 - val_sex_out_accuracy: 0.8809 - val_age_out_accuracy: 0.0471\n",
            "\n",
            "Epoch 00082: val_loss did not improve from 6.69135\n",
            "Epoch 83/600\n",
            "278/278 [==============================] - 4s 13ms/step - loss: 4.6523 - sex_out_loss: 0.1267 - age_out_loss: 4.0840 - sex_out_accuracy: 0.9513 - age_out_accuracy: 0.0402 - val_loss: 7.2028 - val_sex_out_loss: 0.2872 - val_age_out_loss: 6.4720 - val_sex_out_accuracy: 0.8873 - val_age_out_accuracy: 0.0479\n",
            "\n",
            "Epoch 00083: val_loss did not improve from 6.69135\n",
            "Epoch 84/600\n",
            "278/278 [==============================] - 4s 13ms/step - loss: 4.6578 - sex_out_loss: 0.1284 - age_out_loss: 4.0851 - sex_out_accuracy: 0.9496 - age_out_accuracy: 0.0419 - val_loss: 7.7817 - val_sex_out_loss: 0.2797 - val_age_out_loss: 7.0549 - val_sex_out_accuracy: 0.8866 - val_age_out_accuracy: 0.0477\n",
            "\n",
            "Epoch 00084: val_loss did not improve from 6.69135\n",
            "Epoch 85/600\n",
            "278/278 [==============================] - 4s 13ms/step - loss: 4.5431 - sex_out_loss: 0.1341 - age_out_loss: 3.9611 - sex_out_accuracy: 0.9450 - age_out_accuracy: 0.0432 - val_loss: 8.0277 - val_sex_out_loss: 0.2866 - val_age_out_loss: 7.2910 - val_sex_out_accuracy: 0.8853 - val_age_out_accuracy: 0.0483\n",
            "\n",
            "Epoch 00085: val_loss did not improve from 6.69135\n",
            "Epoch 86/600\n",
            "278/278 [==============================] - 4s 13ms/step - loss: 4.6816 - sex_out_loss: 0.1282 - age_out_loss: 4.1025 - sex_out_accuracy: 0.9473 - age_out_accuracy: 0.0459 - val_loss: 7.2540 - val_sex_out_loss: 0.2884 - val_age_out_loss: 6.5133 - val_sex_out_accuracy: 0.8858 - val_age_out_accuracy: 0.0479\n",
            "\n",
            "Epoch 00086: val_loss did not improve from 6.69135\n",
            "Epoch 87/600\n",
            "278/278 [==============================] - 4s 13ms/step - loss: 4.6423 - sex_out_loss: 0.1315 - age_out_loss: 4.0575 - sex_out_accuracy: 0.9471 - age_out_accuracy: 0.0408 - val_loss: 7.5554 - val_sex_out_loss: 0.2945 - val_age_out_loss: 6.8058 - val_sex_out_accuracy: 0.8897 - val_age_out_accuracy: 0.0477\n",
            "\n",
            "Epoch 00087: val_loss did not improve from 6.69135\n",
            "Epoch 88/600\n",
            "278/278 [==============================] - 4s 13ms/step - loss: 4.5023 - sex_out_loss: 0.1212 - age_out_loss: 3.9251 - sex_out_accuracy: 0.9511 - age_out_accuracy: 0.0401 - val_loss: 7.1828 - val_sex_out_loss: 0.2892 - val_age_out_loss: 6.4352 - val_sex_out_accuracy: 0.8900 - val_age_out_accuracy: 0.0477\n",
            "\n",
            "Epoch 00088: val_loss did not improve from 6.69135\n",
            "Epoch 89/600\n",
            "278/278 [==============================] - 4s 13ms/step - loss: 4.5741 - sex_out_loss: 0.1264 - age_out_loss: 3.9886 - sex_out_accuracy: 0.9471 - age_out_accuracy: 0.0394 - val_loss: 7.5278 - val_sex_out_loss: 0.3011 - val_age_out_loss: 6.7650 - val_sex_out_accuracy: 0.8875 - val_age_out_accuracy: 0.0462\n",
            "\n",
            "Epoch 00089: val_loss did not improve from 6.69135\n",
            "Epoch 90/600\n",
            "278/278 [==============================] - 4s 13ms/step - loss: 4.6325 - sex_out_loss: 0.1244 - age_out_loss: 4.0459 - sex_out_accuracy: 0.9484 - age_out_accuracy: 0.0395 - val_loss: 7.1265 - val_sex_out_loss: 0.2895 - val_age_out_loss: 6.3729 - val_sex_out_accuracy: 0.8811 - val_age_out_accuracy: 0.0469\n",
            "\n",
            "Epoch 00090: val_loss did not improve from 6.69135\n",
            "Epoch 91/600\n",
            "278/278 [==============================] - 4s 13ms/step - loss: 4.5560 - sex_out_loss: 0.1239 - age_out_loss: 3.9671 - sex_out_accuracy: 0.9479 - age_out_accuracy: 0.0419 - val_loss: 7.1845 - val_sex_out_loss: 0.2831 - val_age_out_loss: 6.4349 - val_sex_out_accuracy: 0.8902 - val_age_out_accuracy: 0.0476\n",
            "\n",
            "Epoch 00091: val_loss did not improve from 6.69135\n",
            "Epoch 92/600\n",
            "278/278 [==============================] - 4s 13ms/step - loss: 4.5147 - sex_out_loss: 0.1209 - age_out_loss: 3.9264 - sex_out_accuracy: 0.9501 - age_out_accuracy: 0.0403 - val_loss: 7.4370 - val_sex_out_loss: 0.2901 - val_age_out_loss: 6.6774 - val_sex_out_accuracy: 0.8905 - val_age_out_accuracy: 0.0479\n",
            "\n",
            "Epoch 00092: val_loss did not improve from 6.69135\n",
            "Epoch 93/600\n",
            "278/278 [==============================] - 4s 13ms/step - loss: 4.5156 - sex_out_loss: 0.1193 - age_out_loss: 3.9264 - sex_out_accuracy: 0.9516 - age_out_accuracy: 0.0412 - val_loss: 7.0808 - val_sex_out_loss: 0.2874 - val_age_out_loss: 6.3217 - val_sex_out_accuracy: 0.8888 - val_age_out_accuracy: 0.0481\n",
            "\n",
            "Epoch 00093: val_loss did not improve from 6.69135\n",
            "Epoch 94/600\n",
            "278/278 [==============================] - 4s 13ms/step - loss: 4.4725 - sex_out_loss: 0.1190 - age_out_loss: 3.8812 - sex_out_accuracy: 0.9504 - age_out_accuracy: 0.0413 - val_loss: 7.0985 - val_sex_out_loss: 0.3050 - val_age_out_loss: 6.3184 - val_sex_out_accuracy: 0.8907 - val_age_out_accuracy: 0.0483\n",
            "\n",
            "Epoch 00094: val_loss did not improve from 6.69135\n",
            "Epoch 95/600\n",
            "278/278 [==============================] - 4s 13ms/step - loss: 4.6080 - sex_out_loss: 0.1207 - age_out_loss: 4.0115 - sex_out_accuracy: 0.9537 - age_out_accuracy: 0.0395 - val_loss: 7.4663 - val_sex_out_loss: 0.3053 - val_age_out_loss: 6.6832 - val_sex_out_accuracy: 0.8846 - val_age_out_accuracy: 0.0483\n",
            "\n",
            "Epoch 00095: val_loss did not improve from 6.69135\n",
            "Epoch 96/600\n",
            "278/278 [==============================] - 4s 13ms/step - loss: 4.5289 - sex_out_loss: 0.1192 - age_out_loss: 3.9311 - sex_out_accuracy: 0.9506 - age_out_accuracy: 0.0421 - val_loss: 7.0110 - val_sex_out_loss: 0.2808 - val_age_out_loss: 6.2496 - val_sex_out_accuracy: 0.8902 - val_age_out_accuracy: 0.0477\n",
            "\n",
            "Epoch 00096: val_loss did not improve from 6.69135\n",
            "Epoch 97/600\n",
            "278/278 [==============================] - 4s 13ms/step - loss: 4.4520 - sex_out_loss: 0.1090 - age_out_loss: 3.8617 - sex_out_accuracy: 0.9559 - age_out_accuracy: 0.0422 - val_loss: 7.3570 - val_sex_out_loss: 0.3171 - val_age_out_loss: 6.5566 - val_sex_out_accuracy: 0.8865 - val_age_out_accuracy: 0.0479\n",
            "\n",
            "Epoch 00097: val_loss did not improve from 6.69135\n",
            "Epoch 98/600\n",
            "278/278 [==============================] - 4s 13ms/step - loss: 4.4612 - sex_out_loss: 0.1155 - age_out_loss: 3.8619 - sex_out_accuracy: 0.9524 - age_out_accuracy: 0.0419 - val_loss: 7.5951 - val_sex_out_loss: 0.3074 - val_age_out_loss: 6.8020 - val_sex_out_accuracy: 0.8888 - val_age_out_accuracy: 0.0481\n",
            "\n",
            "Epoch 00098: val_loss did not improve from 6.69135\n",
            "Epoch 99/600\n",
            "278/278 [==============================] - 4s 13ms/step - loss: 4.4862 - sex_out_loss: 0.1170 - age_out_loss: 3.8831 - sex_out_accuracy: 0.9530 - age_out_accuracy: 0.0408 - val_loss: 7.5855 - val_sex_out_loss: 0.2917 - val_age_out_loss: 6.8061 - val_sex_out_accuracy: 0.8871 - val_age_out_accuracy: 0.0477\n",
            "\n",
            "Epoch 00099: val_loss did not improve from 6.69135\n",
            "Epoch 100/600\n",
            "278/278 [==============================] - 4s 13ms/step - loss: 4.4791 - sex_out_loss: 0.1138 - age_out_loss: 3.8771 - sex_out_accuracy: 0.9530 - age_out_accuracy: 0.0368 - val_loss: 7.1936 - val_sex_out_loss: 0.3152 - val_age_out_loss: 6.3886 - val_sex_out_accuracy: 0.8834 - val_age_out_accuracy: 0.0481\n",
            "\n",
            "Epoch 00100: val_loss did not improve from 6.69135\n",
            "Epoch 101/600\n",
            "278/278 [==============================] - 4s 13ms/step - loss: 4.5406 - sex_out_loss: 0.1088 - age_out_loss: 3.9412 - sex_out_accuracy: 0.9532 - age_out_accuracy: 0.0433 - val_loss: 6.9899 - val_sex_out_loss: 0.3075 - val_age_out_loss: 6.1897 - val_sex_out_accuracy: 0.8888 - val_age_out_accuracy: 0.0476\n",
            "\n",
            "Epoch 00101: val_loss did not improve from 6.69135\n",
            "Epoch 102/600\n",
            "278/278 [==============================] - 4s 13ms/step - loss: 4.4778 - sex_out_loss: 0.1107 - age_out_loss: 3.8737 - sex_out_accuracy: 0.9538 - age_out_accuracy: 0.0383 - val_loss: 7.3377 - val_sex_out_loss: 0.3065 - val_age_out_loss: 6.5359 - val_sex_out_accuracy: 0.8875 - val_age_out_accuracy: 0.0481\n",
            "\n",
            "Epoch 00102: val_loss did not improve from 6.69135\n",
            "Epoch 103/600\n",
            "278/278 [==============================] - 4s 13ms/step - loss: 4.4579 - sex_out_loss: 0.1029 - age_out_loss: 3.8591 - sex_out_accuracy: 0.9561 - age_out_accuracy: 0.0370 - val_loss: 7.3283 - val_sex_out_loss: 0.3124 - val_age_out_loss: 6.5186 - val_sex_out_accuracy: 0.8861 - val_age_out_accuracy: 0.0479\n",
            "\n",
            "Epoch 00103: val_loss did not improve from 6.69135\n",
            "Epoch 104/600\n",
            "278/278 [==============================] - 4s 13ms/step - loss: 4.5098 - sex_out_loss: 0.1100 - age_out_loss: 3.9020 - sex_out_accuracy: 0.9536 - age_out_accuracy: 0.0408 - val_loss: 7.1323 - val_sex_out_loss: 0.2995 - val_age_out_loss: 6.3333 - val_sex_out_accuracy: 0.8930 - val_age_out_accuracy: 0.0479\n",
            "\n",
            "Epoch 00104: val_loss did not improve from 6.69135\n",
            "Epoch 105/600\n",
            "278/278 [==============================] - 4s 14ms/step - loss: 4.4153 - sex_out_loss: 0.1077 - age_out_loss: 3.8075 - sex_out_accuracy: 0.9548 - age_out_accuracy: 0.0403 - val_loss: 7.7000 - val_sex_out_loss: 0.2907 - val_age_out_loss: 6.9074 - val_sex_out_accuracy: 0.8930 - val_age_out_accuracy: 0.0479\n",
            "\n",
            "Epoch 00105: val_loss did not improve from 6.69135\n",
            "Epoch 106/600\n",
            "278/278 [==============================] - 4s 13ms/step - loss: 4.4811 - sex_out_loss: 0.1091 - age_out_loss: 3.8697 - sex_out_accuracy: 0.9550 - age_out_accuracy: 0.0388 - val_loss: 7.0109 - val_sex_out_loss: 0.3138 - val_age_out_loss: 6.1930 - val_sex_out_accuracy: 0.8902 - val_age_out_accuracy: 0.0474\n",
            "\n",
            "Epoch 00106: val_loss did not improve from 6.69135\n",
            "Epoch 107/600\n",
            "278/278 [==============================] - 4s 13ms/step - loss: 4.4463 - sex_out_loss: 0.1043 - age_out_loss: 3.8374 - sex_out_accuracy: 0.9564 - age_out_accuracy: 0.0354 - val_loss: 7.9392 - val_sex_out_loss: 0.3210 - val_age_out_loss: 7.1114 - val_sex_out_accuracy: 0.8898 - val_age_out_accuracy: 0.0479\n",
            "\n",
            "Epoch 00107: val_loss did not improve from 6.69135\n",
            "Epoch 108/600\n",
            "278/278 [==============================] - 4s 13ms/step - loss: 4.4279 - sex_out_loss: 0.1080 - age_out_loss: 3.8128 - sex_out_accuracy: 0.9579 - age_out_accuracy: 0.0373 - val_loss: 7.9613 - val_sex_out_loss: 0.2973 - val_age_out_loss: 7.1561 - val_sex_out_accuracy: 0.8892 - val_age_out_accuracy: 0.0477\n",
            "\n",
            "Epoch 00108: val_loss did not improve from 6.69135\n"
          ],
          "name": "stdout"
        }
      ]
    },
    {
      "cell_type": "code",
      "metadata": {
        "id": "QtJNFVzBq3A4"
      },
      "source": [
        ""
      ],
      "execution_count": null,
      "outputs": []
    }
  ]
}