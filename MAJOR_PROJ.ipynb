{
  "nbformat": 4,
  "nbformat_minor": 0,
  "metadata": {
    "colab": {
      "name": "MAJOR_PROJ",
      "provenance": [],
      "authorship_tag": "ABX9TyORVoNeqnQOut7Y2yGBxNrA",
      "include_colab_link": true
    },
    "kernelspec": {
      "name": "python3",
      "display_name": "Python 3"
    },
    "language_info": {
      "name": "python"
    },
    "accelerator": "TPU"
  },
  "cells": [
    {
      "cell_type": "markdown",
      "metadata": {
        "id": "view-in-github",
        "colab_type": "text"
      },
      "source": [
        "<a href=\"https://colab.research.google.com/github/prashu18400/Colab/blob/main/MAJOR_PROJ.ipynb\" target=\"_parent\"><img src=\"https://colab.research.google.com/assets/colab-badge.svg\" alt=\"Open In Colab\"/></a>"
      ]
    },
    {
      "cell_type": "markdown",
      "metadata": {
        "id": "ETd4IZIlGdSl"
      },
      "source": [
        "# Dataset Download from Kaggle"
      ]
    },
    {
      "cell_type": "code",
      "metadata": {
        "id": "4WNV-VVSGip7"
      },
      "source": [
        "import os"
      ],
      "execution_count": 1,
      "outputs": []
    },
    {
      "cell_type": "markdown",
      "metadata": {
        "id": "QQL0u8shG7H_"
      },
      "source": [
        "Go to account section in kaggle and create a new API.\n",
        "It gives a json file,open that and enter your username and password given there"
      ]
    },
    {
      "cell_type": "code",
      "metadata": {
        "id": "KH53JHkXGyTK"
      },
      "source": [
        "os.environ['KAGGLE_USERNAME'] = 'prashanthjuluru'\n",
        "os.environ['KAGGLE_KEY'] = '029eb9a6cedf098bceb9d1eb890c3ca0'"
      ],
      "execution_count": 3,
      "outputs": []
    },
    {
      "cell_type": "code",
      "metadata": {
        "colab": {
          "base_uri": "https://localhost:8080/"
        },
        "id": "LivxjFvLHbam",
        "outputId": "de2d29fd-62a3-4a70-f432-21fbdc30bf0f"
      },
      "source": [
        "!kaggle datasets download -d jangedoo/utkface-new"
      ],
      "execution_count": 4,
      "outputs": [
        {
          "output_type": "stream",
          "text": [
            "Downloading utkface-new.zip to /content\n",
            " 98% 324M/331M [00:03<00:00, 104MB/s] \n",
            "100% 331M/331M [00:03<00:00, 112MB/s]\n"
          ],
          "name": "stdout"
        }
      ]
    },
    {
      "cell_type": "code",
      "metadata": {
        "id": "Te0INoZPNgw0"
      },
      "source": [
        "dataset = '/content/utkface-new.zip'"
      ],
      "execution_count": 5,
      "outputs": []
    },
    {
      "cell_type": "code",
      "metadata": {
        "id": "pdRf3wXGHlEH"
      },
      "source": [
        "import zipfile\n",
        "zip_ref = zipfile.ZipFile(dataset, \"r\")\n",
        "zip_ref.extractall()\n",
        "zip_ref.close()\n"
      ],
      "execution_count": 6,
      "outputs": []
    },
    {
      "cell_type": "markdown",
      "metadata": {
        "id": "32_eK5hWOaxS"
      },
      "source": [
        "# Data Preprocess\n"
      ]
    },
    {
      "cell_type": "code",
      "metadata": {
        "id": "zTVl3X5zNZiI"
      },
      "source": [
        "fldr = '/content/crop_part1'"
      ],
      "execution_count": 7,
      "outputs": []
    },
    {
      "cell_type": "code",
      "metadata": {
        "id": "pkFmgx8mOOJ5"
      },
      "source": [
        "files = os.listdir(fldr)"
      ],
      "execution_count": 8,
      "outputs": []
    },
    {
      "cell_type": "markdown",
      "metadata": {
        "id": "Uj787hRsOw_z"
      },
      "source": [
        "Adding all details to separate lists and are used in training and test data split by converting them to numpy arrays"
      ]
    },
    {
      "cell_type": "code",
      "metadata": {
        "id": "e_uvF1N4OUV-"
      },
      "source": [
        "import cv2\n",
        "ages = []\n",
        "genders = []\n",
        "images = []\n",
        "for file in files:\n",
        "  age=int(file.split('_')[0])\n",
        "  gender=int(file.split('_')[1])\n",
        "  total=fldr+'/'+file\n",
        "  print(total)\n",
        "  image=cv2.imread(total)\n",
        "  image = cv2.cvtColor(image, cv2.COLOR_BGR2RGB)\n",
        "  image= cv2.resize(image,(48,48))\n",
        "  images.append(image)\n"
      ],
      "execution_count": null,
      "outputs": []
    },
    {
      "cell_type": "code",
      "metadata": {
        "id": "Q9xsSTkgVuZT"
      },
      "source": [
        "for fle in files:\n",
        "  age=int(fle.split('_')[0])\n",
        "  gender=int(fle.split('_')[1])\n",
        "  ages.append(age)\n",
        "  genders.append(gender)"
      ],
      "execution_count": 10,
      "outputs": []
    },
    {
      "cell_type": "markdown",
      "metadata": {
        "id": "fEGNjobIPMyb"
      },
      "source": [
        "Import matplotlib and see the images that are cropped."
      ]
    },
    {
      "cell_type": "code",
      "metadata": {
        "id": "z7XBY9ROPB1K"
      },
      "source": [
        "import matplotlib.pyplot as plt"
      ],
      "execution_count": 11,
      "outputs": []
    },
    {
      "cell_type": "code",
      "metadata": {
        "colab": {
          "base_uri": "https://localhost:8080/",
          "height": 284
        },
        "id": "wUE8wzKSPXOA",
        "outputId": "c99162e9-30bb-46e0-9629-6e56f26cd7c8"
      },
      "source": [
        "plt.imshow(images[10])"
      ],
      "execution_count": 12,
      "outputs": [
        {
          "output_type": "execute_result",
          "data": {
            "text/plain": [
              "<matplotlib.image.AxesImage at 0x7fae2a09d2d0>"
            ]
          },
          "metadata": {
            "tags": []
          },
          "execution_count": 12
        },
        {
          "output_type": "display_data",
          "data": {
            "image/png": "[encoded data removed]",
            "text/plain": [
              "<Figure size 432x288 with 1 Axes>"
            ]
          },
          "metadata": {
            "tags": [],
            "needs_background": "light"
          }
        }
      ]
    },
    {
      "cell_type": "markdown",
      "metadata": {
        "id": "TuaAt9R-Pr_1"
      },
      "source": [
        "This shape can be used as parameters to the model that we define i.e Convolutional Neural Network"
      ]
    },
    {
      "cell_type": "code",
      "metadata": {
        "colab": {
          "base_uri": "https://localhost:8080/"
        },
        "id": "VMYYA8KOPaHy",
        "outputId": "73d675f3-73fb-4cd2-92a5-429e8669d829"
      },
      "source": [
        "image.shape"
      ],
      "execution_count": 13,
      "outputs": [
        {
          "output_type": "execute_result",
          "data": {
            "text/plain": [
              "(48, 48, 3)"
            ]
          },
          "metadata": {
            "tags": []
          },
          "execution_count": 13
        }
      ]
    },
    {
      "cell_type": "markdown",
      "metadata": {
        "id": "GHeFkqfSP3Sr"
      },
      "source": [
        "As said convert those lists into numpy arrays and save them into a directory (in my case directory is 'output')"
      ]
    },
    {
      "cell_type": "code",
      "metadata": {
        "id": "irzbyeqhPnEf"
      },
      "source": [
        "import numpy as np\n",
        "images_f = np.array(images)\n",
        "genders_f = np.array(genders)\n",
        "ages_f = np.array(ages)"
      ],
      "execution_count": 14,
      "outputs": []
    },
    {
      "cell_type": "code",
      "metadata": {
        "id": "xmByDz9HQVzG"
      },
      "source": [
        "output_path = '/content/output/' #set the output path"
      ],
      "execution_count": 17,
      "outputs": []
    },
    {
      "cell_type": "code",
      "metadata": {
        "id": "BrA-fZG_QfD1"
      },
      "source": [
        "np.save(output_path+'image.npy',images_f)\n",
        "np.save(output_path+'gender.npy',genders_f)\n",
        "np.save(output_path+'age.npy',ages_f)"
      ],
      "execution_count": 18,
      "outputs": []
    },
    {
      "cell_type": "markdown",
      "metadata": {
        "id": "J3f9cwdPUiET"
      },
      "source": [
        "# Dataset Information"
      ]
    },
    {
      "cell_type": "code",
      "metadata": {
        "colab": {
          "base_uri": "https://localhost:8080/"
        },
        "id": "R0LNUUE9UJ7l",
        "outputId": "e8f2f01d-6171-45a2-cd99-d7646db19eda"
      },
      "source": [
        "values, counts = np.unique(genders_f, return_counts=True)\n",
        "print(counts)"
      ],
      "execution_count": 19,
      "outputs": [
        {
          "output_type": "stream",
          "text": [
            "[4372 5407    1]\n"
          ],
          "name": "stdout"
        }
      ]
    },
    {
      "cell_type": "code",
      "metadata": {
        "colab": {
          "base_uri": "https://localhost:8080/",
          "height": 336
        },
        "id": "mtY6obQdUu8Z",
        "outputId": "93bcf206-2a3e-4ba5-c74d-cb706207d5cd"
      },
      "source": [
        "fig = plt.figure()\n",
        "ax = fig.add_axes([0,0,1,1])\n",
        "gender = ['Male', 'Female']\n",
        "values = [4372,5407]\n",
        "ax.bar(gender,values)\n",
        "plt.show()"
      ],
      "execution_count": 20,
      "outputs": [
        {
          "output_type": "display_data",
          "data": {
            "image/png": "[encoded data removed]",
            "text/plain": [
              "<Figure size 432x288 with 1 Axes>"
            ]
          },
          "metadata": {
            "tags": [],
            "needs_background": "light"
          }
        }
      ]
    },
    {
      "cell_type": "code",
      "metadata": {
        "colab": {
          "base_uri": "https://localhost:8080/"
        },
        "id": "2-0_jVOpVTTj",
        "outputId": "5a649a11-8468-482e-f234-20c1c724d284"
      },
      "source": [
        "values, counts = np.unique(ages_f, return_counts=True)\n",
        "print(counts)"
      ],
      "execution_count": 21,
      "outputs": [
        {
          "output_type": "stream",
          "text": [
            "[1112  475  284  260  180  114  126  236  159  140   63  106   75  137\n",
            "  143  212  103  181   58  103  136  139   92  191  156  279  126  145\n",
            "  150  109   97  141   46   87  121  112   94   91  136   85   56   84\n",
            "   52   27   77   61   70   64   99  105   62  133  133  106   52  132\n",
            "   60   96   59  137   50   76   47   29  113   54   47   58   45   53\n",
            "   22   70   31   16   87   35   19   30   16   71   10   29    7   11\n",
            "  130   23    4   17   16   56    1   13    3    3   16    2    2    1\n",
            "    2]\n"
          ],
          "name": "stdout"
        }
      ]
    },
    {
      "cell_type": "code",
      "metadata": {
        "id": "vZ8ihl7sWKuH"
      },
      "source": [
        "val=values.tolist()\n",
        "cnt=counts.tolist()"
      ],
      "execution_count": 22,
      "outputs": []
    },
    {
      "cell_type": "code",
      "metadata": {
        "colab": {
          "base_uri": "https://localhost:8080/",
          "height": 296
        },
        "id": "EwOPNroqWRBC",
        "outputId": "55628f84-82e4-4901-ffda-b639f007df3b"
      },
      "source": [
        "#age distribution\n",
        "plt.plot(counts)\n",
        "plt.xlabel('ages')\n",
        "plt.ylabel('distribution')\n",
        "plt.plot()"
      ],
      "execution_count": 23,
      "outputs": [
        {
          "output_type": "execute_result",
          "data": {
            "text/plain": [
              "[]"
            ]
          },
          "metadata": {
            "tags": []
          },
          "execution_count": 23
        },
        {
          "output_type": "display_data",
          "data": {
            "image/png": "[encoded data removed]",
            "text/plain": [
              "<Figure size 432x288 with 1 Axes>"
            ]
          },
          "metadata": {
            "tags": [],
            "needs_background": "light"
          }
        }
      ]
    },
    {
      "cell_type": "markdown",
      "metadata": {
        "id": "tTIa8rBSWbPj"
      },
      "source": [
        "# Model definition\n"
      ]
    },
    {
      "cell_type": "code",
      "metadata": {
        "id": "SIWDTxJGWUdt"
      },
      "source": [
        "labels=[]\n",
        "\n",
        "i=0\n",
        "while i<len(ages):\n",
        "  label=[]\n",
        "  label.append([ages[i]])\n",
        "  label.append([genders[i]])\n",
        "  labels.append(label)\n",
        "  i+=1"
      ],
      "execution_count": 24,
      "outputs": []
    },
    {
      "cell_type": "code",
      "metadata": {
        "id": "DQGsFsY3WYHR"
      },
      "source": [
        "images_f_2=images_f/255\n",
        "labels_f = np.array(labels)"
      ],
      "execution_count": 25,
      "outputs": []
    },
    {
      "cell_type": "code",
      "metadata": {
        "colab": {
          "base_uri": "https://localhost:8080/"
        },
        "id": "S55LqplJWdxQ",
        "outputId": "513ea3ad-33e0-4fc7-df8e-40cc08b0504e"
      },
      "source": [
        "images_f_2.shape"
      ],
      "execution_count": 26,
      "outputs": [
        {
          "output_type": "execute_result",
          "data": {
            "text/plain": [
              "(9780, 48, 48, 3)"
            ]
          },
          "metadata": {
            "tags": []
          },
          "execution_count": 26
        }
      ]
    },
    {
      "cell_type": "code",
      "metadata": {
        "id": "2-7K21dOWqqI"
      },
      "source": [
        "import tensorflow as tf\n",
        "from sklearn.model_selection import train_test_split"
      ],
      "execution_count": 27,
      "outputs": []
    },
    {
      "cell_type": "code",
      "metadata": {
        "id": "SZlZ5UoXWwUE"
      },
      "source": [
        "X_train, X_test, Y_train, Y_test= train_test_split(images_f_2, labels_f,test_size=0.25)"
      ],
      "execution_count": 28,
      "outputs": []
    },
    {
      "cell_type": "code",
      "metadata": {
        "id": "ax0WqPsoW07I"
      },
      "source": [
        "Y_train_2=[Y_train[:,1],Y_train[:,0]]\n",
        "Y_test_2=[Y_test[:,1],Y_test[:,0]]"
      ],
      "execution_count": 29,
      "outputs": []
    },
    {
      "cell_type": "code",
      "metadata": {
        "id": "-XtCW0eVZnJp"
      },
      "source": [
        ""
      ],
      "execution_count": null,
      "outputs": []
    }
  ]
}